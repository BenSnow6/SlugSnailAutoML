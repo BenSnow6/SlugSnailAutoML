{
 "cells": [
  {
   "cell_type": "markdown",
   "metadata": {},
   "source": [
    "# XML editor for annotations"
   ]
  },
  {
   "cell_type": "markdown",
   "metadata": {},
   "source": [
    "Import requirements"
   ]
  },
  {
   "cell_type": "code",
   "execution_count": 90,
   "metadata": {},
   "outputs": [],
   "source": [
    "import os\n",
    "import xml.etree.ElementTree as ET"
   ]
  },
  {
   "cell_type": "markdown",
   "metadata": {},
   "source": [
    "#### Approach\n",
    "- Start by finding reading the XML files and finding the tags they contain\n",
    "- After this, extract from these tags\n",
    "- Edit the tags and save the updated XML files\n",
    "- Repeat for all XML files in the directory\n",
    "\n",
    "We will be taking inspiration from the following resource:\n",
    "https://docs.python.org/3/library/xml.etree.elementtree.html"
   ]
  },
  {
   "cell_type": "code",
   "execution_count": 118,
   "metadata": {},
   "outputs": [],
   "source": [
    "def rewrite_xml(current_path):\n",
    "    \"\"\"_summary_\n",
    "\n",
    "    Args:\n",
    "        current_path (str): path to the xml file to be edited\n",
    "    \"\"\"\n",
    "    ## Import the XML data by reading the file\n",
    "    tree = ET.parse(current_path)\n",
    "    root = tree.getroot()\n",
    "    \n",
    "    ## Folder name is to be re-written as 'images' (the folder the images are stored in)\n",
    "    foldername_written = 'images'\n",
    "    \n",
    "    ## Access the image filename the annotation is referring to\n",
    "    file_name = root.find('filename').text\n",
    "    \n",
    "    ## Rewrite the path to a relative path pointing to the image file\n",
    "    relative_path_written = '../images/' + file_name\n",
    "    \n",
    "    ## Set the new foldername and relative path\n",
    "    root.find('folder').text = str(foldername_written)\n",
    "    root.find('path').text = str(relative_path_written)\n",
    "    \n",
    "    ## Create the filename for the new xml file\n",
    "    head, tail = os.path.splitext(current_path)\n",
    "    foldername, filename = head.split('\\\\')\n",
    "    filename += '.xml'\n",
    "    filename = 'new/' + filename\n",
    "    \n",
    "    ## Save the new xml file\n",
    "    tree.write(filename)"
   ]
  },
  {
   "cell_type": "code",
   "execution_count": 125,
   "metadata": {},
   "outputs": [],
   "source": [
    "## Walk through the folder of annotations and rewrite the xml files\n",
    "import glob\n",
    "for filepath in glob.iglob('annotations/*.xml'):\n",
    "    rewrite_xml(filepath)\n"
   ]
  }
 ],
 "metadata": {
  "kernelspec": {
   "display_name": "Python 3.7.12 ('tf1')",
   "language": "python",
   "name": "python3"
  },
  "language_info": {
   "codemirror_mode": {
    "name": "ipython",
    "version": 3
   },
   "file_extension": ".py",
   "mimetype": "text/x-python",
   "name": "python",
   "nbconvert_exporter": "python",
   "pygments_lexer": "ipython3",
   "version": "3.7.12"
  },
  "orig_nbformat": 4,
  "vscode": {
   "interpreter": {
    "hash": "48324878fd09c2ff1755460c6bedcd7035239e95f1ec0df88470a6ba78f59e5a"
   }
  }
 },
 "nbformat": 4,
 "nbformat_minor": 2
}
