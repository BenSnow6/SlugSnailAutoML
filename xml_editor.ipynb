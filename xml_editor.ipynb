{
 "cells": [
  {
   "cell_type": "markdown",
   "metadata": {},
   "source": [
    "# XML editor for annotations"
   ]
  },
  {
   "cell_type": "markdown",
   "metadata": {},
   "source": [
    "##### Install requirements"
   ]
  },
  {
   "cell_type": "code",
   "execution_count": 2,
   "metadata": {},
   "outputs": [
    {
     "name": "stderr",
     "output_type": "stream",
     "text": [
      "WARNING: There was an error checking the latest version of pip.\n"
     ]
    },
    {
     "name": "stdout",
     "output_type": "stream",
     "text": [
      "Requirement already satisfied: beautifulsoup4 in c:\\users\\bensn\\anaconda3\\envs\\tf1\\lib\\site-packages (4.11.1)\n",
      "Requirement already satisfied: soupsieve>1.2 in c:\\users\\bensn\\anaconda3\\envs\\tf1\\lib\\site-packages (from beautifulsoup4) (2.3.2.post1)\n",
      "Collecting lxml\n",
      "  Downloading lxml-4.9.1-cp37-cp37m-win_amd64.whl (3.6 MB)\n",
      "     ---------------------------------------- 3.6/3.6 MB 8.1 MB/s eta 0:00:00\n",
      "Installing collected packages: lxml\n",
      "Successfully installed lxml-4.9.1\n"
     ]
    },
    {
     "name": "stderr",
     "output_type": "stream",
     "text": [
      "WARNING: There was an error checking the latest version of pip.\n"
     ]
    }
   ],
   "source": [
    "!pip install beautifulsoup4\n",
    "!pip install lxml"
   ]
  },
  {
   "cell_type": "markdown",
   "metadata": {},
   "source": [
    "#### Approach\n",
    "- Start by finding reading the XML files and finding the tags they contain\n",
    "- After this, extract from these tags\n",
    "- Edit the tags and save the updated XML files\n",
    "- Repeat for all XML files in the directory\n",
    "\n",
    "We will be taking inspiration from the following resource:\n",
    "https://www.geeksforgeeks.org/reading-and-writing-xml-files-in-python/"
   ]
  },
  {
   "cell_type": "code",
   "execution_count": 25,
   "metadata": {},
   "outputs": [
    {
     "name": "stdout",
     "output_type": "stream",
     "text": [
      "folder {}\n",
      "filename {}\n",
      "path {}\n",
      "source {}\n",
      "size {}\n",
      "segmented {}\n",
      "object {}\n"
     ]
    }
   ],
   "source": [
    "path_annotation = 'annotations/57.xml'\n",
    "import xml.etree.ElementTree as ET\n",
    "tree = ET.parse(path_annotation)\n",
    "root = tree.getroot()\n",
    "for child in root:\n",
    "    print(child.tag, child.attrib)"
   ]
  },
  {
   "cell_type": "code",
   "execution_count": 27,
   "metadata": {},
   "outputs": [
    {
     "name": "stdout",
     "output_type": "stream",
     "text": [
      "folder {}\n",
      "filename {}\n",
      "path {}\n",
      "source {}\n",
      "database {}\n",
      "size {}\n",
      "width {}\n",
      "height {}\n",
      "depth {}\n",
      "segmented {}\n",
      "object {}\n",
      "name {}\n",
      "pose {}\n",
      "truncated {}\n",
      "difficult {}\n",
      "bndbox {}\n"
     ]
    }
   ],
   "source": [
    "for child in root:\n",
    "    print(child.tag, child.attrib)\n",
    "    for sub in child:\n",
    "        print(sub.tag, sub.attrib)"
   ]
  },
  {
   "cell_type": "code",
   "execution_count": 50,
   "metadata": {},
   "outputs": [
    {
     "name": "stdout",
     "output_type": "stream",
     "text": [
      "folder {} i :0, j :3, root;\n",
      "filename {} i :1, j :3, root;\n",
      "path {} i :2, j :3, root;\n",
      "source {} i :3, j :3, root;\n",
      "size {} i :4, j :3, root;\n",
      "segmented {} i :5, j :3, root;\n",
      "object {} i :6, j :3, root;\n"
     ]
    }
   ],
   "source": [
    "for i in range(0,8):\n",
    "    try: print(root[i].tag, root[i].attrib, f\"i :{i}, j :{j}, root;\")\n",
    "    except: pass"
   ]
  },
  {
   "cell_type": "code",
   "execution_count": 54,
   "metadata": {},
   "outputs": [],
   "source": [
    "folder_text = root[0].text\n",
    "path_text = root[2].text"
   ]
  },
  {
   "cell_type": "code",
   "execution_count": 58,
   "metadata": {},
   "outputs": [],
   "source": [
    "import os\n",
    "file_name = os.path.basename(path_text)"
   ]
  },
  {
   "cell_type": "code",
   "execution_count": 61,
   "metadata": {},
   "outputs": [
    {
     "data": {
      "text/plain": [
       "'../images/57.jpg'"
      ]
     },
     "execution_count": 61,
     "metadata": {},
     "output_type": "execute_result"
    }
   ],
   "source": [
    "relative_path = '../images/' + file_name\n",
    "relative_path"
   ]
  },
  {
   "cell_type": "code",
   "execution_count": null,
   "metadata": {},
   "outputs": [],
   "source": []
  }
 ],
 "metadata": {
  "kernelspec": {
   "display_name": "Python 3.7.12 ('tf1')",
   "language": "python",
   "name": "python3"
  },
  "language_info": {
   "codemirror_mode": {
    "name": "ipython",
    "version": 3
   },
   "file_extension": ".py",
   "mimetype": "text/x-python",
   "name": "python",
   "nbconvert_exporter": "python",
   "pygments_lexer": "ipython3",
   "version": "3.7.12"
  },
  "orig_nbformat": 4,
  "vscode": {
   "interpreter": {
    "hash": "48324878fd09c2ff1755460c6bedcd7035239e95f1ec0df88470a6ba78f59e5a"
   }
  }
 },
 "nbformat": 4,
 "nbformat_minor": 2
}
